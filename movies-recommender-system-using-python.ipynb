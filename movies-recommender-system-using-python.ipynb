{
 "cells": [
  {
   "cell_type": "code",
   "execution_count": 1,
   "id": "7fb530b2",
   "metadata": {
    "execution": {
     "iopub.execute_input": "2023-04-09T17:48:43.847655Z",
     "iopub.status.busy": "2023-04-09T17:48:43.846956Z",
     "iopub.status.idle": "2023-04-09T17:48:43.856801Z",
     "shell.execute_reply": "2023-04-09T17:48:43.855395Z"
    },
    "papermill": {
     "duration": 0.025235,
     "end_time": "2023-04-09T17:48:43.859531",
     "exception": false,
     "start_time": "2023-04-09T17:48:43.834296",
     "status": "completed"
    },
    "tags": []
   },
   "outputs": [],
   "source": [
    "import numpy as np\n",
    "import pandas as pd"
   ]
  },
  {
   "cell_type": "markdown",
   "id": "b723400a",
   "metadata": {
    "papermill": {
     "duration": 0.009619,
     "end_time": "2023-04-09T17:48:43.879274",
     "exception": false,
     "start_time": "2023-04-09T17:48:43.869655",
     "status": "completed"
    },
    "tags": []
   },
   "source": [
    "#Movie recomender system based on the given data set"
   ]
  },
  {
   "cell_type": "code",
   "execution_count": 2,
   "id": "a7943468",
   "metadata": {
    "execution": {
     "iopub.execute_input": "2023-04-09T17:48:43.900911Z",
     "iopub.status.busy": "2023-04-09T17:48:43.900477Z",
     "iopub.status.idle": "2023-04-09T17:48:44.948544Z",
     "shell.execute_reply": "2023-04-09T17:48:44.947453Z"
    },
    "papermill": {
     "duration": 1.062036,
     "end_time": "2023-04-09T17:48:44.951272",
     "exception": false,
     "start_time": "2023-04-09T17:48:43.889236",
     "status": "completed"
    },
    "tags": []
   },
   "outputs": [],
   "source": [
    "movies = pd.read_csv('/kaggle/input/tmdb-movie-metadata/tmdb_5000_movies.csv')\n",
    "credits = pd.read_csv('/kaggle/input/tmdb-movie-metadata/tmdb_5000_credits.csv')"
   ]
  },
  {
   "cell_type": "code",
   "execution_count": 3,
   "id": "f9671bcd",
   "metadata": {
    "execution": {
     "iopub.execute_input": "2023-04-09T17:48:44.974125Z",
     "iopub.status.busy": "2023-04-09T17:48:44.973592Z",
     "iopub.status.idle": "2023-04-09T17:48:45.008679Z",
     "shell.execute_reply": "2023-04-09T17:48:45.007440Z"
    },
    "papermill": {
     "duration": 0.050704,
     "end_time": "2023-04-09T17:48:45.011960",
     "exception": false,
     "start_time": "2023-04-09T17:48:44.961256",
     "status": "completed"
    },
    "tags": []
   },
   "outputs": [
    {
     "data": {
      "text/html": [
       "<div>\n",
       "<style scoped>\n",
       "    .dataframe tbody tr th:only-of-type {\n",
       "        vertical-align: middle;\n",
       "    }\n",
       "\n",
       "    .dataframe tbody tr th {\n",
       "        vertical-align: top;\n",
       "    }\n",
       "\n",
       "    .dataframe thead th {\n",
       "        text-align: right;\n",
       "    }\n",
       "</style>\n",
       "<table border=\"1\" class=\"dataframe\">\n",
       "  <thead>\n",
       "    <tr style=\"text-align: right;\">\n",
       "      <th></th>\n",
       "      <th>budget</th>\n",
       "      <th>genres</th>\n",
       "      <th>homepage</th>\n",
       "      <th>id</th>\n",
       "      <th>keywords</th>\n",
       "      <th>original_language</th>\n",
       "      <th>original_title</th>\n",
       "      <th>overview</th>\n",
       "      <th>popularity</th>\n",
       "      <th>production_companies</th>\n",
       "      <th>production_countries</th>\n",
       "      <th>release_date</th>\n",
       "      <th>revenue</th>\n",
       "      <th>runtime</th>\n",
       "      <th>spoken_languages</th>\n",
       "      <th>status</th>\n",
       "      <th>tagline</th>\n",
       "      <th>title</th>\n",
       "      <th>vote_average</th>\n",
       "      <th>vote_count</th>\n",
       "    </tr>\n",
       "  </thead>\n",
       "  <tbody>\n",
       "    <tr>\n",
       "      <th>0</th>\n",
       "      <td>237000000</td>\n",
       "      <td>[{\"id\": 28, \"name\": \"Action\"}, {\"id\": 12, \"nam...</td>\n",
       "      <td>http://www.avatarmovie.com/</td>\n",
       "      <td>19995</td>\n",
       "      <td>[{\"id\": 1463, \"name\": \"culture clash\"}, {\"id\":...</td>\n",
       "      <td>en</td>\n",
       "      <td>Avatar</td>\n",
       "      <td>In the 22nd century, a paraplegic Marine is di...</td>\n",
       "      <td>150.437577</td>\n",
       "      <td>[{\"name\": \"Ingenious Film Partners\", \"id\": 289...</td>\n",
       "      <td>[{\"iso_3166_1\": \"US\", \"name\": \"United States o...</td>\n",
       "      <td>2009-12-10</td>\n",
       "      <td>2787965087</td>\n",
       "      <td>162.0</td>\n",
       "      <td>[{\"iso_639_1\": \"en\", \"name\": \"English\"}, {\"iso...</td>\n",
       "      <td>Released</td>\n",
       "      <td>Enter the World of Pandora.</td>\n",
       "      <td>Avatar</td>\n",
       "      <td>7.2</td>\n",
       "      <td>11800</td>\n",
       "    </tr>\n",
       "  </tbody>\n",
       "</table>\n",
       "</div>"
      ],
      "text/plain": [
       "      budget                                             genres  \\\n",
       "0  237000000  [{\"id\": 28, \"name\": \"Action\"}, {\"id\": 12, \"nam...   \n",
       "\n",
       "                      homepage     id  \\\n",
       "0  http://www.avatarmovie.com/  19995   \n",
       "\n",
       "                                            keywords original_language  \\\n",
       "0  [{\"id\": 1463, \"name\": \"culture clash\"}, {\"id\":...                en   \n",
       "\n",
       "  original_title                                           overview  \\\n",
       "0         Avatar  In the 22nd century, a paraplegic Marine is di...   \n",
       "\n",
       "   popularity                               production_companies  \\\n",
       "0  150.437577  [{\"name\": \"Ingenious Film Partners\", \"id\": 289...   \n",
       "\n",
       "                                production_countries release_date     revenue  \\\n",
       "0  [{\"iso_3166_1\": \"US\", \"name\": \"United States o...   2009-12-10  2787965087   \n",
       "\n",
       "   runtime                                   spoken_languages    status  \\\n",
       "0    162.0  [{\"iso_639_1\": \"en\", \"name\": \"English\"}, {\"iso...  Released   \n",
       "\n",
       "                       tagline   title  vote_average  vote_count  \n",
       "0  Enter the World of Pandora.  Avatar           7.2       11800  "
      ]
     },
     "execution_count": 3,
     "metadata": {},
     "output_type": "execute_result"
    }
   ],
   "source": [
    "movies.head(1)"
   ]
  },
  {
   "cell_type": "code",
   "execution_count": 4,
   "id": "00205e57",
   "metadata": {
    "execution": {
     "iopub.execute_input": "2023-04-09T17:48:45.034783Z",
     "iopub.status.busy": "2023-04-09T17:48:45.033627Z",
     "iopub.status.idle": "2023-04-09T17:48:45.066896Z",
     "shell.execute_reply": "2023-04-09T17:48:45.065542Z"
    },
    "papermill": {
     "duration": 0.047413,
     "end_time": "2023-04-09T17:48:45.070002",
     "exception": false,
     "start_time": "2023-04-09T17:48:45.022589",
     "status": "completed"
    },
    "tags": []
   },
   "outputs": [],
   "source": [
    "# merge the dataframes\n",
    "data= movies.merge(credits, on='title')"
   ]
  },
  {
   "cell_type": "code",
   "execution_count": 5,
   "id": "380267e2",
   "metadata": {
    "execution": {
     "iopub.execute_input": "2023-04-09T17:48:45.092162Z",
     "iopub.status.busy": "2023-04-09T17:48:45.091742Z",
     "iopub.status.idle": "2023-04-09T17:48:45.096101Z",
     "shell.execute_reply": "2023-04-09T17:48:45.094894Z"
    },
    "papermill": {
     "duration": 0.018356,
     "end_time": "2023-04-09T17:48:45.098579",
     "exception": false,
     "start_time": "2023-04-09T17:48:45.080223",
     "status": "completed"
    },
    "tags": []
   },
   "outputs": [],
   "source": [
    "# columns we work with\n",
    "# genres, id, keywords, title, overview, cast, crew"
   ]
  },
  {
   "cell_type": "code",
   "execution_count": 6,
   "id": "ded02c65",
   "metadata": {
    "execution": {
     "iopub.execute_input": "2023-04-09T17:48:45.121121Z",
     "iopub.status.busy": "2023-04-09T17:48:45.119932Z",
     "iopub.status.idle": "2023-04-09T17:48:45.146459Z",
     "shell.execute_reply": "2023-04-09T17:48:45.145109Z"
    },
    "papermill": {
     "duration": 0.04001,
     "end_time": "2023-04-09T17:48:45.148932",
     "exception": false,
     "start_time": "2023-04-09T17:48:45.108922",
     "status": "completed"
    },
    "tags": []
   },
   "outputs": [
    {
     "name": "stdout",
     "output_type": "stream",
     "text": [
      "<class 'pandas.core.frame.DataFrame'>\n",
      "Int64Index: 4809 entries, 0 to 4808\n",
      "Data columns (total 23 columns):\n",
      " #   Column                Non-Null Count  Dtype  \n",
      "---  ------                --------------  -----  \n",
      " 0   budget                4809 non-null   int64  \n",
      " 1   genres                4809 non-null   object \n",
      " 2   homepage              1713 non-null   object \n",
      " 3   id                    4809 non-null   int64  \n",
      " 4   keywords              4809 non-null   object \n",
      " 5   original_language     4809 non-null   object \n",
      " 6   original_title        4809 non-null   object \n",
      " 7   overview              4806 non-null   object \n",
      " 8   popularity            4809 non-null   float64\n",
      " 9   production_companies  4809 non-null   object \n",
      " 10  production_countries  4809 non-null   object \n",
      " 11  release_date          4808 non-null   object \n",
      " 12  revenue               4809 non-null   int64  \n",
      " 13  runtime               4807 non-null   float64\n",
      " 14  spoken_languages      4809 non-null   object \n",
      " 15  status                4809 non-null   object \n",
      " 16  tagline               3965 non-null   object \n",
      " 17  title                 4809 non-null   object \n",
      " 18  vote_average          4809 non-null   float64\n",
      " 19  vote_count            4809 non-null   int64  \n",
      " 20  movie_id              4809 non-null   int64  \n",
      " 21  cast                  4809 non-null   object \n",
      " 22  crew                  4809 non-null   object \n",
      "dtypes: float64(3), int64(5), object(15)\n",
      "memory usage: 901.7+ KB\n"
     ]
    }
   ],
   "source": [
    "data.info()"
   ]
  },
  {
   "cell_type": "code",
   "execution_count": 7,
   "id": "943a432f",
   "metadata": {
    "execution": {
     "iopub.execute_input": "2023-04-09T17:48:45.170978Z",
     "iopub.status.busy": "2023-04-09T17:48:45.170102Z",
     "iopub.status.idle": "2023-04-09T17:48:45.206967Z",
     "shell.execute_reply": "2023-04-09T17:48:45.205644Z"
    },
    "papermill": {
     "duration": 0.050897,
     "end_time": "2023-04-09T17:48:45.209718",
     "exception": false,
     "start_time": "2023-04-09T17:48:45.158821",
     "status": "completed"
    },
    "tags": []
   },
   "outputs": [
    {
     "data": {
      "text/html": [
       "<div>\n",
       "<style scoped>\n",
       "    .dataframe tbody tr th:only-of-type {\n",
       "        vertical-align: middle;\n",
       "    }\n",
       "\n",
       "    .dataframe tbody tr th {\n",
       "        vertical-align: top;\n",
       "    }\n",
       "\n",
       "    .dataframe thead th {\n",
       "        text-align: right;\n",
       "    }\n",
       "</style>\n",
       "<table border=\"1\" class=\"dataframe\">\n",
       "  <thead>\n",
       "    <tr style=\"text-align: right;\">\n",
       "      <th></th>\n",
       "      <th>budget</th>\n",
       "      <th>id</th>\n",
       "      <th>popularity</th>\n",
       "      <th>revenue</th>\n",
       "      <th>runtime</th>\n",
       "      <th>vote_average</th>\n",
       "      <th>vote_count</th>\n",
       "    </tr>\n",
       "  </thead>\n",
       "  <tbody>\n",
       "    <tr>\n",
       "      <th>count</th>\n",
       "      <td>4.803000e+03</td>\n",
       "      <td>4803.000000</td>\n",
       "      <td>4803.000000</td>\n",
       "      <td>4.803000e+03</td>\n",
       "      <td>4801.000000</td>\n",
       "      <td>4803.000000</td>\n",
       "      <td>4803.000000</td>\n",
       "    </tr>\n",
       "    <tr>\n",
       "      <th>mean</th>\n",
       "      <td>2.904504e+07</td>\n",
       "      <td>57165.484281</td>\n",
       "      <td>21.492301</td>\n",
       "      <td>8.226064e+07</td>\n",
       "      <td>106.875859</td>\n",
       "      <td>6.092172</td>\n",
       "      <td>690.217989</td>\n",
       "    </tr>\n",
       "    <tr>\n",
       "      <th>std</th>\n",
       "      <td>4.072239e+07</td>\n",
       "      <td>88694.614033</td>\n",
       "      <td>31.816650</td>\n",
       "      <td>1.628571e+08</td>\n",
       "      <td>22.611935</td>\n",
       "      <td>1.194612</td>\n",
       "      <td>1234.585891</td>\n",
       "    </tr>\n",
       "    <tr>\n",
       "      <th>min</th>\n",
       "      <td>0.000000e+00</td>\n",
       "      <td>5.000000</td>\n",
       "      <td>0.000000</td>\n",
       "      <td>0.000000e+00</td>\n",
       "      <td>0.000000</td>\n",
       "      <td>0.000000</td>\n",
       "      <td>0.000000</td>\n",
       "    </tr>\n",
       "    <tr>\n",
       "      <th>25%</th>\n",
       "      <td>7.900000e+05</td>\n",
       "      <td>9014.500000</td>\n",
       "      <td>4.668070</td>\n",
       "      <td>0.000000e+00</td>\n",
       "      <td>94.000000</td>\n",
       "      <td>5.600000</td>\n",
       "      <td>54.000000</td>\n",
       "    </tr>\n",
       "    <tr>\n",
       "      <th>50%</th>\n",
       "      <td>1.500000e+07</td>\n",
       "      <td>14629.000000</td>\n",
       "      <td>12.921594</td>\n",
       "      <td>1.917000e+07</td>\n",
       "      <td>103.000000</td>\n",
       "      <td>6.200000</td>\n",
       "      <td>235.000000</td>\n",
       "    </tr>\n",
       "    <tr>\n",
       "      <th>75%</th>\n",
       "      <td>4.000000e+07</td>\n",
       "      <td>58610.500000</td>\n",
       "      <td>28.313505</td>\n",
       "      <td>9.291719e+07</td>\n",
       "      <td>118.000000</td>\n",
       "      <td>6.800000</td>\n",
       "      <td>737.000000</td>\n",
       "    </tr>\n",
       "    <tr>\n",
       "      <th>max</th>\n",
       "      <td>3.800000e+08</td>\n",
       "      <td>459488.000000</td>\n",
       "      <td>875.581305</td>\n",
       "      <td>2.787965e+09</td>\n",
       "      <td>338.000000</td>\n",
       "      <td>10.000000</td>\n",
       "      <td>13752.000000</td>\n",
       "    </tr>\n",
       "  </tbody>\n",
       "</table>\n",
       "</div>"
      ],
      "text/plain": [
       "             budget             id   popularity       revenue      runtime  \\\n",
       "count  4.803000e+03    4803.000000  4803.000000  4.803000e+03  4801.000000   \n",
       "mean   2.904504e+07   57165.484281    21.492301  8.226064e+07   106.875859   \n",
       "std    4.072239e+07   88694.614033    31.816650  1.628571e+08    22.611935   \n",
       "min    0.000000e+00       5.000000     0.000000  0.000000e+00     0.000000   \n",
       "25%    7.900000e+05    9014.500000     4.668070  0.000000e+00    94.000000   \n",
       "50%    1.500000e+07   14629.000000    12.921594  1.917000e+07   103.000000   \n",
       "75%    4.000000e+07   58610.500000    28.313505  9.291719e+07   118.000000   \n",
       "max    3.800000e+08  459488.000000   875.581305  2.787965e+09   338.000000   \n",
       "\n",
       "       vote_average    vote_count  \n",
       "count   4803.000000   4803.000000  \n",
       "mean       6.092172    690.217989  \n",
       "std        1.194612   1234.585891  \n",
       "min        0.000000      0.000000  \n",
       "25%        5.600000     54.000000  \n",
       "50%        6.200000    235.000000  \n",
       "75%        6.800000    737.000000  \n",
       "max       10.000000  13752.000000  "
      ]
     },
     "execution_count": 7,
     "metadata": {},
     "output_type": "execute_result"
    }
   ],
   "source": [
    "movies.describe()"
   ]
  },
  {
   "cell_type": "code",
   "execution_count": 8,
   "id": "91df44bb",
   "metadata": {
    "execution": {
     "iopub.execute_input": "2023-04-09T17:48:45.233118Z",
     "iopub.status.busy": "2023-04-09T17:48:45.232016Z",
     "iopub.status.idle": "2023-04-09T17:48:45.243160Z",
     "shell.execute_reply": "2023-04-09T17:48:45.242184Z"
    },
    "papermill": {
     "duration": 0.025475,
     "end_time": "2023-04-09T17:48:45.245708",
     "exception": false,
     "start_time": "2023-04-09T17:48:45.220233",
     "status": "completed"
    },
    "tags": []
   },
   "outputs": [],
   "source": [
    "data= data[['movie_id', 'title',  'overview', 'genres', 'keywords', 'cast', 'crew']]"
   ]
  },
  {
   "cell_type": "code",
   "execution_count": 9,
   "id": "cd6700ff",
   "metadata": {
    "execution": {
     "iopub.execute_input": "2023-04-09T17:48:45.269776Z",
     "iopub.status.busy": "2023-04-09T17:48:45.269144Z",
     "iopub.status.idle": "2023-04-09T17:48:45.281297Z",
     "shell.execute_reply": "2023-04-09T17:48:45.280179Z"
    },
    "papermill": {
     "duration": 0.026782,
     "end_time": "2023-04-09T17:48:45.283597",
     "exception": false,
     "start_time": "2023-04-09T17:48:45.256815",
     "status": "completed"
    },
    "tags": []
   },
   "outputs": [
    {
     "data": {
      "text/plain": [
       "movie_id    0\n",
       "title       0\n",
       "overview    3\n",
       "genres      0\n",
       "keywords    0\n",
       "cast        0\n",
       "crew        0\n",
       "dtype: int64"
      ]
     },
     "execution_count": 9,
     "metadata": {},
     "output_type": "execute_result"
    }
   ],
   "source": [
    "data.isnull().sum()"
   ]
  },
  {
   "cell_type": "code",
   "execution_count": 10,
   "id": "db02eec6",
   "metadata": {
    "execution": {
     "iopub.execute_input": "2023-04-09T17:48:45.306538Z",
     "iopub.status.busy": "2023-04-09T17:48:45.306130Z",
     "iopub.status.idle": "2023-04-09T17:48:45.318842Z",
     "shell.execute_reply": "2023-04-09T17:48:45.317536Z"
    },
    "papermill": {
     "duration": 0.027725,
     "end_time": "2023-04-09T17:48:45.321789",
     "exception": false,
     "start_time": "2023-04-09T17:48:45.294064",
     "status": "completed"
    },
    "tags": []
   },
   "outputs": [],
   "source": [
    "data.dropna(inplace=True)"
   ]
  },
  {
   "cell_type": "code",
   "execution_count": 11,
   "id": "14dba15f",
   "metadata": {
    "execution": {
     "iopub.execute_input": "2023-04-09T17:48:45.344910Z",
     "iopub.status.busy": "2023-04-09T17:48:45.344494Z",
     "iopub.status.idle": "2023-04-09T17:48:45.352461Z",
     "shell.execute_reply": "2023-04-09T17:48:45.351100Z"
    },
    "papermill": {
     "duration": 0.022627,
     "end_time": "2023-04-09T17:48:45.354982",
     "exception": false,
     "start_time": "2023-04-09T17:48:45.332355",
     "status": "completed"
    },
    "tags": []
   },
   "outputs": [
    {
     "data": {
      "text/plain": [
       "'[{\"id\": 28, \"name\": \"Action\"}, {\"id\": 12, \"name\": \"Adventure\"}, {\"id\": 80, \"name\": \"Crime\"}]'"
      ]
     },
     "execution_count": 11,
     "metadata": {},
     "output_type": "execute_result"
    }
   ],
   "source": [
    "data.iloc[2].genres"
   ]
  },
  {
   "cell_type": "code",
   "execution_count": 12,
   "id": "91f7cfe2",
   "metadata": {
    "execution": {
     "iopub.execute_input": "2023-04-09T17:48:45.378482Z",
     "iopub.status.busy": "2023-04-09T17:48:45.378041Z",
     "iopub.status.idle": "2023-04-09T17:48:45.383263Z",
     "shell.execute_reply": "2023-04-09T17:48:45.381964Z"
    },
    "papermill": {
     "duration": 0.019853,
     "end_time": "2023-04-09T17:48:45.385555",
     "exception": false,
     "start_time": "2023-04-09T17:48:45.365702",
     "status": "completed"
    },
    "tags": []
   },
   "outputs": [],
   "source": [
    "import ast"
   ]
  },
  {
   "cell_type": "code",
   "execution_count": 13,
   "id": "7ea62df1",
   "metadata": {
    "execution": {
     "iopub.execute_input": "2023-04-09T17:48:45.408654Z",
     "iopub.status.busy": "2023-04-09T17:48:45.408226Z",
     "iopub.status.idle": "2023-04-09T17:48:45.414498Z",
     "shell.execute_reply": "2023-04-09T17:48:45.413296Z"
    },
    "papermill": {
     "duration": 0.02083,
     "end_time": "2023-04-09T17:48:45.416811",
     "exception": false,
     "start_time": "2023-04-09T17:48:45.395981",
     "status": "completed"
    },
    "tags": []
   },
   "outputs": [],
   "source": [
    "#convert the above data into [action, adventure, fantasy, scify]\n",
    "# for this we going to write a funtion orignal_format()\n",
    "\n",
    "def fetch_name(obj):\n",
    "    L=[]\n",
    "    for i in ast.literal_eval(obj):\n",
    "        L.append(i['name']);\n",
    "    return L"
   ]
  },
  {
   "cell_type": "code",
   "execution_count": 14,
   "id": "d068a8b3",
   "metadata": {
    "execution": {
     "iopub.execute_input": "2023-04-09T17:48:45.439819Z",
     "iopub.status.busy": "2023-04-09T17:48:45.439411Z",
     "iopub.status.idle": "2023-04-09T17:48:45.444072Z",
     "shell.execute_reply": "2023-04-09T17:48:45.442933Z"
    },
    "papermill": {
     "duration": 0.018871,
     "end_time": "2023-04-09T17:48:45.446295",
     "exception": false,
     "start_time": "2023-04-09T17:48:45.427424",
     "status": "completed"
    },
    "tags": []
   },
   "outputs": [],
   "source": [
    "# data['genres'] =data['genres'].apply(orignal_format)\n",
    "# ast.literal_eval('[{\"id\": 28, \"name\": \"Action\"}, {\"id\": 12, \"name\": \"Adventure\"}, {\"id\": 14, \"name\": \"Fantasy\"}, {\"id\": 878, \"name\": \"Science Fiction\"}]')"
   ]
  },
  {
   "cell_type": "code",
   "execution_count": 15,
   "id": "558cdd81",
   "metadata": {
    "execution": {
     "iopub.execute_input": "2023-04-09T17:48:45.469347Z",
     "iopub.status.busy": "2023-04-09T17:48:45.468908Z",
     "iopub.status.idle": "2023-04-09T17:48:45.630704Z",
     "shell.execute_reply": "2023-04-09T17:48:45.629656Z"
    },
    "papermill": {
     "duration": 0.176688,
     "end_time": "2023-04-09T17:48:45.633571",
     "exception": false,
     "start_time": "2023-04-09T17:48:45.456883",
     "status": "completed"
    },
    "tags": []
   },
   "outputs": [],
   "source": [
    "data['genres']=data['genres'].apply(fetch_name)"
   ]
  },
  {
   "cell_type": "code",
   "execution_count": 16,
   "id": "1a442e7e",
   "metadata": {
    "execution": {
     "iopub.execute_input": "2023-04-09T17:48:45.657550Z",
     "iopub.status.busy": "2023-04-09T17:48:45.657127Z",
     "iopub.status.idle": "2023-04-09T17:48:45.675084Z",
     "shell.execute_reply": "2023-04-09T17:48:45.673739Z"
    },
    "papermill": {
     "duration": 0.033389,
     "end_time": "2023-04-09T17:48:45.677842",
     "exception": false,
     "start_time": "2023-04-09T17:48:45.644453",
     "status": "completed"
    },
    "tags": []
   },
   "outputs": [
    {
     "data": {
      "text/html": [
       "<div>\n",
       "<style scoped>\n",
       "    .dataframe tbody tr th:only-of-type {\n",
       "        vertical-align: middle;\n",
       "    }\n",
       "\n",
       "    .dataframe tbody tr th {\n",
       "        vertical-align: top;\n",
       "    }\n",
       "\n",
       "    .dataframe thead th {\n",
       "        text-align: right;\n",
       "    }\n",
       "</style>\n",
       "<table border=\"1\" class=\"dataframe\">\n",
       "  <thead>\n",
       "    <tr style=\"text-align: right;\">\n",
       "      <th></th>\n",
       "      <th>movie_id</th>\n",
       "      <th>title</th>\n",
       "      <th>overview</th>\n",
       "      <th>genres</th>\n",
       "      <th>keywords</th>\n",
       "      <th>cast</th>\n",
       "      <th>crew</th>\n",
       "    </tr>\n",
       "  </thead>\n",
       "  <tbody>\n",
       "    <tr>\n",
       "      <th>0</th>\n",
       "      <td>19995</td>\n",
       "      <td>Avatar</td>\n",
       "      <td>In the 22nd century, a paraplegic Marine is di...</td>\n",
       "      <td>[Action, Adventure, Fantasy, Science Fiction]</td>\n",
       "      <td>[{\"id\": 1463, \"name\": \"culture clash\"}, {\"id\":...</td>\n",
       "      <td>[{\"cast_id\": 242, \"character\": \"Jake Sully\", \"...</td>\n",
       "      <td>[{\"credit_id\": \"52fe48009251416c750aca23\", \"de...</td>\n",
       "    </tr>\n",
       "    <tr>\n",
       "      <th>1</th>\n",
       "      <td>285</td>\n",
       "      <td>Pirates of the Caribbean: At World's End</td>\n",
       "      <td>Captain Barbossa, long believed to be dead, ha...</td>\n",
       "      <td>[Adventure, Fantasy, Action]</td>\n",
       "      <td>[{\"id\": 270, \"name\": \"ocean\"}, {\"id\": 726, \"na...</td>\n",
       "      <td>[{\"cast_id\": 4, \"character\": \"Captain Jack Spa...</td>\n",
       "      <td>[{\"credit_id\": \"52fe4232c3a36847f800b579\", \"de...</td>\n",
       "    </tr>\n",
       "    <tr>\n",
       "      <th>2</th>\n",
       "      <td>206647</td>\n",
       "      <td>Spectre</td>\n",
       "      <td>A cryptic message from Bond’s past sends him o...</td>\n",
       "      <td>[Action, Adventure, Crime]</td>\n",
       "      <td>[{\"id\": 470, \"name\": \"spy\"}, {\"id\": 818, \"name...</td>\n",
       "      <td>[{\"cast_id\": 1, \"character\": \"James Bond\", \"cr...</td>\n",
       "      <td>[{\"credit_id\": \"54805967c3a36829b5002c41\", \"de...</td>\n",
       "    </tr>\n",
       "    <tr>\n",
       "      <th>3</th>\n",
       "      <td>49026</td>\n",
       "      <td>The Dark Knight Rises</td>\n",
       "      <td>Following the death of District Attorney Harve...</td>\n",
       "      <td>[Action, Crime, Drama, Thriller]</td>\n",
       "      <td>[{\"id\": 849, \"name\": \"dc comics\"}, {\"id\": 853,...</td>\n",
       "      <td>[{\"cast_id\": 2, \"character\": \"Bruce Wayne / Ba...</td>\n",
       "      <td>[{\"credit_id\": \"52fe4781c3a36847f81398c3\", \"de...</td>\n",
       "    </tr>\n",
       "    <tr>\n",
       "      <th>4</th>\n",
       "      <td>49529</td>\n",
       "      <td>John Carter</td>\n",
       "      <td>John Carter is a war-weary, former military ca...</td>\n",
       "      <td>[Action, Adventure, Science Fiction]</td>\n",
       "      <td>[{\"id\": 818, \"name\": \"based on novel\"}, {\"id\":...</td>\n",
       "      <td>[{\"cast_id\": 5, \"character\": \"John Carter\", \"c...</td>\n",
       "      <td>[{\"credit_id\": \"52fe479ac3a36847f813eaa3\", \"de...</td>\n",
       "    </tr>\n",
       "  </tbody>\n",
       "</table>\n",
       "</div>"
      ],
      "text/plain": [
       "   movie_id                                     title  \\\n",
       "0     19995                                    Avatar   \n",
       "1       285  Pirates of the Caribbean: At World's End   \n",
       "2    206647                                   Spectre   \n",
       "3     49026                     The Dark Knight Rises   \n",
       "4     49529                               John Carter   \n",
       "\n",
       "                                            overview  \\\n",
       "0  In the 22nd century, a paraplegic Marine is di...   \n",
       "1  Captain Barbossa, long believed to be dead, ha...   \n",
       "2  A cryptic message from Bond’s past sends him o...   \n",
       "3  Following the death of District Attorney Harve...   \n",
       "4  John Carter is a war-weary, former military ca...   \n",
       "\n",
       "                                          genres  \\\n",
       "0  [Action, Adventure, Fantasy, Science Fiction]   \n",
       "1                   [Adventure, Fantasy, Action]   \n",
       "2                     [Action, Adventure, Crime]   \n",
       "3               [Action, Crime, Drama, Thriller]   \n",
       "4           [Action, Adventure, Science Fiction]   \n",
       "\n",
       "                                            keywords  \\\n",
       "0  [{\"id\": 1463, \"name\": \"culture clash\"}, {\"id\":...   \n",
       "1  [{\"id\": 270, \"name\": \"ocean\"}, {\"id\": 726, \"na...   \n",
       "2  [{\"id\": 470, \"name\": \"spy\"}, {\"id\": 818, \"name...   \n",
       "3  [{\"id\": 849, \"name\": \"dc comics\"}, {\"id\": 853,...   \n",
       "4  [{\"id\": 818, \"name\": \"based on novel\"}, {\"id\":...   \n",
       "\n",
       "                                                cast  \\\n",
       "0  [{\"cast_id\": 242, \"character\": \"Jake Sully\", \"...   \n",
       "1  [{\"cast_id\": 4, \"character\": \"Captain Jack Spa...   \n",
       "2  [{\"cast_id\": 1, \"character\": \"James Bond\", \"cr...   \n",
       "3  [{\"cast_id\": 2, \"character\": \"Bruce Wayne / Ba...   \n",
       "4  [{\"cast_id\": 5, \"character\": \"John Carter\", \"c...   \n",
       "\n",
       "                                                crew  \n",
       "0  [{\"credit_id\": \"52fe48009251416c750aca23\", \"de...  \n",
       "1  [{\"credit_id\": \"52fe4232c3a36847f800b579\", \"de...  \n",
       "2  [{\"credit_id\": \"54805967c3a36829b5002c41\", \"de...  \n",
       "3  [{\"credit_id\": \"52fe4781c3a36847f81398c3\", \"de...  \n",
       "4  [{\"credit_id\": \"52fe479ac3a36847f813eaa3\", \"de...  "
      ]
     },
     "execution_count": 16,
     "metadata": {},
     "output_type": "execute_result"
    }
   ],
   "source": [
    "data.head()"
   ]
  },
  {
   "cell_type": "code",
   "execution_count": 17,
   "id": "77c5a102",
   "metadata": {
    "execution": {
     "iopub.execute_input": "2023-04-09T17:48:45.702070Z",
     "iopub.status.busy": "2023-04-09T17:48:45.701635Z",
     "iopub.status.idle": "2023-04-09T17:48:46.113822Z",
     "shell.execute_reply": "2023-04-09T17:48:46.112556Z"
    },
    "papermill": {
     "duration": 0.427594,
     "end_time": "2023-04-09T17:48:46.116677",
     "exception": false,
     "start_time": "2023-04-09T17:48:45.689083",
     "status": "completed"
    },
    "tags": []
   },
   "outputs": [],
   "source": [
    "data['keywords']= data['keywords'].apply(fetch_name)"
   ]
  },
  {
   "cell_type": "code",
   "execution_count": 18,
   "id": "ccec0ef3",
   "metadata": {
    "execution": {
     "iopub.execute_input": "2023-04-09T17:48:46.140460Z",
     "iopub.status.busy": "2023-04-09T17:48:46.140015Z",
     "iopub.status.idle": "2023-04-09T17:48:46.146394Z",
     "shell.execute_reply": "2023-04-09T17:48:46.145226Z"
    },
    "papermill": {
     "duration": 0.02114,
     "end_time": "2023-04-09T17:48:46.148760",
     "exception": false,
     "start_time": "2023-04-09T17:48:46.127620",
     "status": "completed"
    },
    "tags": []
   },
   "outputs": [],
   "source": [
    "def cast_name3(obj):\n",
    "    L=[]\n",
    "    counter =0\n",
    "    for i in ast.literal_eval(obj):\n",
    "        if counter ==3:\n",
    "            break\n",
    "        \n",
    "        L.append(i['name']);\n",
    "        counter +=1\n",
    "    return L"
   ]
  },
  {
   "cell_type": "code",
   "execution_count": 19,
   "id": "6536a5d9",
   "metadata": {
    "execution": {
     "iopub.execute_input": "2023-04-09T17:48:46.172353Z",
     "iopub.status.busy": "2023-04-09T17:48:46.171950Z",
     "iopub.status.idle": "2023-04-09T17:48:49.587524Z",
     "shell.execute_reply": "2023-04-09T17:48:49.586408Z"
    },
    "papermill": {
     "duration": 3.430711,
     "end_time": "2023-04-09T17:48:49.590456",
     "exception": false,
     "start_time": "2023-04-09T17:48:46.159745",
     "status": "completed"
    },
    "tags": []
   },
   "outputs": [],
   "source": [
    "data['cast'] = data['cast'].apply(cast_name3)"
   ]
  },
  {
   "cell_type": "code",
   "execution_count": 20,
   "id": "60e17d22",
   "metadata": {
    "execution": {
     "iopub.execute_input": "2023-04-09T17:48:49.614420Z",
     "iopub.status.busy": "2023-04-09T17:48:49.613463Z",
     "iopub.status.idle": "2023-04-09T17:48:53.261398Z",
     "shell.execute_reply": "2023-04-09T17:48:53.260444Z"
    },
    "papermill": {
     "duration": 3.66267,
     "end_time": "2023-04-09T17:48:53.263994",
     "exception": false,
     "start_time": "2023-04-09T17:48:49.601324",
     "status": "completed"
    },
    "tags": []
   },
   "outputs": [],
   "source": [
    "def fetch_director(obj):\n",
    "    L=[]\n",
    "    for i in ast.literal_eval(obj):\n",
    "        if i['job']=='Director':\n",
    "            L.append(i['name']);\n",
    "    return L\n",
    "data['crew'] = data['crew'].apply(fetch_director)"
   ]
  },
  {
   "cell_type": "code",
   "execution_count": 21,
   "id": "465771d5",
   "metadata": {
    "execution": {
     "iopub.execute_input": "2023-04-09T17:48:53.287615Z",
     "iopub.status.busy": "2023-04-09T17:48:53.286955Z",
     "iopub.status.idle": "2023-04-09T17:48:53.319596Z",
     "shell.execute_reply": "2023-04-09T17:48:53.318579Z"
    },
    "papermill": {
     "duration": 0.047476,
     "end_time": "2023-04-09T17:48:53.322210",
     "exception": false,
     "start_time": "2023-04-09T17:48:53.274734",
     "status": "completed"
    },
    "tags": []
   },
   "outputs": [],
   "source": [
    "# make string into lists\n",
    "data['overview'] = data['overview'].apply(lambda x: x.split())"
   ]
  },
  {
   "cell_type": "code",
   "execution_count": 22,
   "id": "5801dd7c",
   "metadata": {
    "execution": {
     "iopub.execute_input": "2023-04-09T17:48:53.345886Z",
     "iopub.status.busy": "2023-04-09T17:48:53.345232Z",
     "iopub.status.idle": "2023-04-09T17:48:53.368921Z",
     "shell.execute_reply": "2023-04-09T17:48:53.367646Z"
    },
    "papermill": {
     "duration": 0.038596,
     "end_time": "2023-04-09T17:48:53.371626",
     "exception": false,
     "start_time": "2023-04-09T17:48:53.333030",
     "status": "completed"
    },
    "tags": []
   },
   "outputs": [
    {
     "data": {
      "text/html": [
       "<div>\n",
       "<style scoped>\n",
       "    .dataframe tbody tr th:only-of-type {\n",
       "        vertical-align: middle;\n",
       "    }\n",
       "\n",
       "    .dataframe tbody tr th {\n",
       "        vertical-align: top;\n",
       "    }\n",
       "\n",
       "    .dataframe thead th {\n",
       "        text-align: right;\n",
       "    }\n",
       "</style>\n",
       "<table border=\"1\" class=\"dataframe\">\n",
       "  <thead>\n",
       "    <tr style=\"text-align: right;\">\n",
       "      <th></th>\n",
       "      <th>movie_id</th>\n",
       "      <th>title</th>\n",
       "      <th>overview</th>\n",
       "      <th>genres</th>\n",
       "      <th>keywords</th>\n",
       "      <th>cast</th>\n",
       "      <th>crew</th>\n",
       "    </tr>\n",
       "  </thead>\n",
       "  <tbody>\n",
       "    <tr>\n",
       "      <th>0</th>\n",
       "      <td>19995</td>\n",
       "      <td>Avatar</td>\n",
       "      <td>[In, the, 22nd, century,, a, paraplegic, Marin...</td>\n",
       "      <td>[Action, Adventure, Fantasy, Science Fiction]</td>\n",
       "      <td>[culture clash, future, space war, space colon...</td>\n",
       "      <td>[Sam Worthington, Zoe Saldana, Sigourney Weaver]</td>\n",
       "      <td>[James Cameron]</td>\n",
       "    </tr>\n",
       "    <tr>\n",
       "      <th>1</th>\n",
       "      <td>285</td>\n",
       "      <td>Pirates of the Caribbean: At World's End</td>\n",
       "      <td>[Captain, Barbossa,, long, believed, to, be, d...</td>\n",
       "      <td>[Adventure, Fantasy, Action]</td>\n",
       "      <td>[ocean, drug abuse, exotic island, east india ...</td>\n",
       "      <td>[Johnny Depp, Orlando Bloom, Keira Knightley]</td>\n",
       "      <td>[Gore Verbinski]</td>\n",
       "    </tr>\n",
       "    <tr>\n",
       "      <th>2</th>\n",
       "      <td>206647</td>\n",
       "      <td>Spectre</td>\n",
       "      <td>[A, cryptic, message, from, Bond’s, past, send...</td>\n",
       "      <td>[Action, Adventure, Crime]</td>\n",
       "      <td>[spy, based on novel, secret agent, sequel, mi...</td>\n",
       "      <td>[Daniel Craig, Christoph Waltz, Léa Seydoux]</td>\n",
       "      <td>[Sam Mendes]</td>\n",
       "    </tr>\n",
       "    <tr>\n",
       "      <th>3</th>\n",
       "      <td>49026</td>\n",
       "      <td>The Dark Knight Rises</td>\n",
       "      <td>[Following, the, death, of, District, Attorney...</td>\n",
       "      <td>[Action, Crime, Drama, Thriller]</td>\n",
       "      <td>[dc comics, crime fighter, terrorist, secret i...</td>\n",
       "      <td>[Christian Bale, Michael Caine, Gary Oldman]</td>\n",
       "      <td>[Christopher Nolan]</td>\n",
       "    </tr>\n",
       "    <tr>\n",
       "      <th>4</th>\n",
       "      <td>49529</td>\n",
       "      <td>John Carter</td>\n",
       "      <td>[John, Carter, is, a, war-weary,, former, mili...</td>\n",
       "      <td>[Action, Adventure, Science Fiction]</td>\n",
       "      <td>[based on novel, mars, medallion, space travel...</td>\n",
       "      <td>[Taylor Kitsch, Lynn Collins, Samantha Morton]</td>\n",
       "      <td>[Andrew Stanton]</td>\n",
       "    </tr>\n",
       "  </tbody>\n",
       "</table>\n",
       "</div>"
      ],
      "text/plain": [
       "   movie_id                                     title  \\\n",
       "0     19995                                    Avatar   \n",
       "1       285  Pirates of the Caribbean: At World's End   \n",
       "2    206647                                   Spectre   \n",
       "3     49026                     The Dark Knight Rises   \n",
       "4     49529                               John Carter   \n",
       "\n",
       "                                            overview  \\\n",
       "0  [In, the, 22nd, century,, a, paraplegic, Marin...   \n",
       "1  [Captain, Barbossa,, long, believed, to, be, d...   \n",
       "2  [A, cryptic, message, from, Bond’s, past, send...   \n",
       "3  [Following, the, death, of, District, Attorney...   \n",
       "4  [John, Carter, is, a, war-weary,, former, mili...   \n",
       "\n",
       "                                          genres  \\\n",
       "0  [Action, Adventure, Fantasy, Science Fiction]   \n",
       "1                   [Adventure, Fantasy, Action]   \n",
       "2                     [Action, Adventure, Crime]   \n",
       "3               [Action, Crime, Drama, Thriller]   \n",
       "4           [Action, Adventure, Science Fiction]   \n",
       "\n",
       "                                            keywords  \\\n",
       "0  [culture clash, future, space war, space colon...   \n",
       "1  [ocean, drug abuse, exotic island, east india ...   \n",
       "2  [spy, based on novel, secret agent, sequel, mi...   \n",
       "3  [dc comics, crime fighter, terrorist, secret i...   \n",
       "4  [based on novel, mars, medallion, space travel...   \n",
       "\n",
       "                                               cast                 crew  \n",
       "0  [Sam Worthington, Zoe Saldana, Sigourney Weaver]      [James Cameron]  \n",
       "1     [Johnny Depp, Orlando Bloom, Keira Knightley]     [Gore Verbinski]  \n",
       "2      [Daniel Craig, Christoph Waltz, Léa Seydoux]         [Sam Mendes]  \n",
       "3      [Christian Bale, Michael Caine, Gary Oldman]  [Christopher Nolan]  \n",
       "4    [Taylor Kitsch, Lynn Collins, Samantha Morton]     [Andrew Stanton]  "
      ]
     },
     "execution_count": 22,
     "metadata": {},
     "output_type": "execute_result"
    }
   ],
   "source": [
    "data.head()"
   ]
  },
  {
   "cell_type": "code",
   "execution_count": 23,
   "id": "386bc408",
   "metadata": {
    "execution": {
     "iopub.execute_input": "2023-04-09T17:48:53.396059Z",
     "iopub.status.busy": "2023-04-09T17:48:53.395625Z",
     "iopub.status.idle": "2023-04-09T17:48:53.443813Z",
     "shell.execute_reply": "2023-04-09T17:48:53.442556Z"
    },
    "papermill": {
     "duration": 0.063261,
     "end_time": "2023-04-09T17:48:53.446360",
     "exception": false,
     "start_time": "2023-04-09T17:48:53.383099",
     "status": "completed"
    },
    "tags": []
   },
   "outputs": [],
   "source": [
    "# to remove space between two words\n",
    "data['genres'] = data['genres'].apply(lambda x:[i.replace(\" \", \"\")for i in x])\n",
    "data['keywords'] = data['keywords'].apply(lambda x:[i.replace(\" \", \"\")for i in x])\n",
    "data['cast'] = data['cast'].apply(lambda x:[i.replace(\" \", \"\")for i in x])\n",
    "data['crew'] = data['crew'].apply(lambda x:[i.replace(\" \", \"\")for i in x])"
   ]
  },
  {
   "cell_type": "code",
   "execution_count": 24,
   "id": "57e67325",
   "metadata": {
    "execution": {
     "iopub.execute_input": "2023-04-09T17:48:53.470523Z",
     "iopub.status.busy": "2023-04-09T17:48:53.469820Z",
     "iopub.status.idle": "2023-04-09T17:48:53.525904Z",
     "shell.execute_reply": "2023-04-09T17:48:53.524584Z"
    },
    "papermill": {
     "duration": 0.071644,
     "end_time": "2023-04-09T17:48:53.529058",
     "exception": false,
     "start_time": "2023-04-09T17:48:53.457414",
     "status": "completed"
    },
    "tags": []
   },
   "outputs": [],
   "source": [
    "data['tags'] = data['overview'] + data['genres']+data['keywords']+data['cast']+data['crew']"
   ]
  },
  {
   "cell_type": "code",
   "execution_count": 25,
   "id": "0f451dcf",
   "metadata": {
    "execution": {
     "iopub.execute_input": "2023-04-09T17:48:53.552992Z",
     "iopub.status.busy": "2023-04-09T17:48:53.552528Z",
     "iopub.status.idle": "2023-04-09T17:48:53.560305Z",
     "shell.execute_reply": "2023-04-09T17:48:53.559225Z"
    },
    "papermill": {
     "duration": 0.022548,
     "end_time": "2023-04-09T17:48:53.562573",
     "exception": false,
     "start_time": "2023-04-09T17:48:53.540025",
     "status": "completed"
    },
    "tags": []
   },
   "outputs": [],
   "source": [
    "# kam wala data separate kr liya\n",
    "new_data = data[['movie_id', 'title', 'tags']]"
   ]
  },
  {
   "cell_type": "code",
   "execution_count": 26,
   "id": "9e968a4c",
   "metadata": {
    "execution": {
     "iopub.execute_input": "2023-04-09T17:48:53.586750Z",
     "iopub.status.busy": "2023-04-09T17:48:53.586109Z",
     "iopub.status.idle": "2023-04-09T17:48:53.604221Z",
     "shell.execute_reply": "2023-04-09T17:48:53.603146Z"
    },
    "papermill": {
     "duration": 0.033438,
     "end_time": "2023-04-09T17:48:53.607229",
     "exception": false,
     "start_time": "2023-04-09T17:48:53.573791",
     "status": "completed"
    },
    "tags": []
   },
   "outputs": [
    {
     "name": "stderr",
     "output_type": "stream",
     "text": [
      "/opt/conda/lib/python3.7/site-packages/ipykernel_launcher.py:1: SettingWithCopyWarning: \n",
      "A value is trying to be set on a copy of a slice from a DataFrame.\n",
      "Try using .loc[row_indexer,col_indexer] = value instead\n",
      "\n",
      "See the caveats in the documentation: https://pandas.pydata.org/pandas-docs/stable/user_guide/indexing.html#returning-a-view-versus-a-copy\n",
      "  \"\"\"Entry point for launching an IPython kernel.\n"
     ]
    }
   ],
   "source": [
    "new_data['tags'] = new_data['tags'].apply(lambda x: \" \".join(x))"
   ]
  },
  {
   "cell_type": "code",
   "execution_count": 27,
   "id": "89ffc135",
   "metadata": {
    "execution": {
     "iopub.execute_input": "2023-04-09T17:48:53.631318Z",
     "iopub.status.busy": "2023-04-09T17:48:53.630901Z",
     "iopub.status.idle": "2023-04-09T17:48:53.642032Z",
     "shell.execute_reply": "2023-04-09T17:48:53.640825Z"
    },
    "papermill": {
     "duration": 0.025818,
     "end_time": "2023-04-09T17:48:53.644246",
     "exception": false,
     "start_time": "2023-04-09T17:48:53.618428",
     "status": "completed"
    },
    "tags": []
   },
   "outputs": [
    {
     "data": {
      "text/html": [
       "<div>\n",
       "<style scoped>\n",
       "    .dataframe tbody tr th:only-of-type {\n",
       "        vertical-align: middle;\n",
       "    }\n",
       "\n",
       "    .dataframe tbody tr th {\n",
       "        vertical-align: top;\n",
       "    }\n",
       "\n",
       "    .dataframe thead th {\n",
       "        text-align: right;\n",
       "    }\n",
       "</style>\n",
       "<table border=\"1\" class=\"dataframe\">\n",
       "  <thead>\n",
       "    <tr style=\"text-align: right;\">\n",
       "      <th></th>\n",
       "      <th>movie_id</th>\n",
       "      <th>title</th>\n",
       "      <th>tags</th>\n",
       "    </tr>\n",
       "  </thead>\n",
       "  <tbody>\n",
       "    <tr>\n",
       "      <th>0</th>\n",
       "      <td>19995</td>\n",
       "      <td>Avatar</td>\n",
       "      <td>In the 22nd century, a paraplegic Marine is di...</td>\n",
       "    </tr>\n",
       "    <tr>\n",
       "      <th>1</th>\n",
       "      <td>285</td>\n",
       "      <td>Pirates of the Caribbean: At World's End</td>\n",
       "      <td>Captain Barbossa, long believed to be dead, ha...</td>\n",
       "    </tr>\n",
       "    <tr>\n",
       "      <th>2</th>\n",
       "      <td>206647</td>\n",
       "      <td>Spectre</td>\n",
       "      <td>A cryptic message from Bond’s past sends him o...</td>\n",
       "    </tr>\n",
       "    <tr>\n",
       "      <th>3</th>\n",
       "      <td>49026</td>\n",
       "      <td>The Dark Knight Rises</td>\n",
       "      <td>Following the death of District Attorney Harve...</td>\n",
       "    </tr>\n",
       "    <tr>\n",
       "      <th>4</th>\n",
       "      <td>49529</td>\n",
       "      <td>John Carter</td>\n",
       "      <td>John Carter is a war-weary, former military ca...</td>\n",
       "    </tr>\n",
       "  </tbody>\n",
       "</table>\n",
       "</div>"
      ],
      "text/plain": [
       "   movie_id                                     title  \\\n",
       "0     19995                                    Avatar   \n",
       "1       285  Pirates of the Caribbean: At World's End   \n",
       "2    206647                                   Spectre   \n",
       "3     49026                     The Dark Knight Rises   \n",
       "4     49529                               John Carter   \n",
       "\n",
       "                                                tags  \n",
       "0  In the 22nd century, a paraplegic Marine is di...  \n",
       "1  Captain Barbossa, long believed to be dead, ha...  \n",
       "2  A cryptic message from Bond’s past sends him o...  \n",
       "3  Following the death of District Attorney Harve...  \n",
       "4  John Carter is a war-weary, former military ca...  "
      ]
     },
     "execution_count": 27,
     "metadata": {},
     "output_type": "execute_result"
    }
   ],
   "source": [
    "new_data.head()"
   ]
  },
  {
   "cell_type": "code",
   "execution_count": 28,
   "id": "58684372",
   "metadata": {
    "execution": {
     "iopub.execute_input": "2023-04-09T17:48:53.669984Z",
     "iopub.status.busy": "2023-04-09T17:48:53.669305Z",
     "iopub.status.idle": "2023-04-09T17:48:55.315835Z",
     "shell.execute_reply": "2023-04-09T17:48:55.314451Z"
    },
    "papermill": {
     "duration": 1.66269,
     "end_time": "2023-04-09T17:48:55.318876",
     "exception": false,
     "start_time": "2023-04-09T17:48:53.656186",
     "status": "completed"
    },
    "tags": []
   },
   "outputs": [],
   "source": [
    "from nltk.stem.porter import PorterStemmer\n",
    "ps = PorterStemmer()\n"
   ]
  },
  {
   "cell_type": "code",
   "execution_count": 29,
   "id": "71eb8262",
   "metadata": {
    "execution": {
     "iopub.execute_input": "2023-04-09T17:48:55.346044Z",
     "iopub.status.busy": "2023-04-09T17:48:55.345188Z",
     "iopub.status.idle": "2023-04-09T17:48:55.351229Z",
     "shell.execute_reply": "2023-04-09T17:48:55.350065Z"
    },
    "papermill": {
     "duration": 0.023027,
     "end_time": "2023-04-09T17:48:55.353562",
     "exception": false,
     "start_time": "2023-04-09T17:48:55.330535",
     "status": "completed"
    },
    "tags": []
   },
   "outputs": [],
   "source": [
    "def stem(text):\n",
    "    ls = []\n",
    "    for i in text.split():\n",
    "        ls.append(ps.stem(i))\n",
    "    return \" \".join(ls)"
   ]
  },
  {
   "cell_type": "code",
   "execution_count": 30,
   "id": "f4867e9a",
   "metadata": {
    "execution": {
     "iopub.execute_input": "2023-04-09T17:48:55.378939Z",
     "iopub.status.busy": "2023-04-09T17:48:55.378161Z",
     "iopub.status.idle": "2023-04-09T17:49:03.006926Z",
     "shell.execute_reply": "2023-04-09T17:49:03.005605Z"
    },
    "papermill": {
     "duration": 7.644507,
     "end_time": "2023-04-09T17:49:03.009681",
     "exception": false,
     "start_time": "2023-04-09T17:48:55.365174",
     "status": "completed"
    },
    "tags": []
   },
   "outputs": [
    {
     "name": "stderr",
     "output_type": "stream",
     "text": [
      "/opt/conda/lib/python3.7/site-packages/ipykernel_launcher.py:1: SettingWithCopyWarning: \n",
      "A value is trying to be set on a copy of a slice from a DataFrame.\n",
      "Try using .loc[row_indexer,col_indexer] = value instead\n",
      "\n",
      "See the caveats in the documentation: https://pandas.pydata.org/pandas-docs/stable/user_guide/indexing.html#returning-a-view-versus-a-copy\n",
      "  \"\"\"Entry point for launching an IPython kernel.\n"
     ]
    }
   ],
   "source": [
    "new_data['tags']= new_data['tags'].apply(stem)"
   ]
  },
  {
   "cell_type": "code",
   "execution_count": 31,
   "id": "b5847f77",
   "metadata": {
    "execution": {
     "iopub.execute_input": "2023-04-09T17:49:03.035610Z",
     "iopub.status.busy": "2023-04-09T17:49:03.035188Z",
     "iopub.status.idle": "2023-04-09T17:49:03.048708Z",
     "shell.execute_reply": "2023-04-09T17:49:03.046657Z"
    },
    "papermill": {
     "duration": 0.029712,
     "end_time": "2023-04-09T17:49:03.051340",
     "exception": false,
     "start_time": "2023-04-09T17:49:03.021628",
     "status": "completed"
    },
    "tags": []
   },
   "outputs": [
    {
     "name": "stderr",
     "output_type": "stream",
     "text": [
      "/opt/conda/lib/python3.7/site-packages/ipykernel_launcher.py:1: SettingWithCopyWarning: \n",
      "A value is trying to be set on a copy of a slice from a DataFrame.\n",
      "Try using .loc[row_indexer,col_indexer] = value instead\n",
      "\n",
      "See the caveats in the documentation: https://pandas.pydata.org/pandas-docs/stable/user_guide/indexing.html#returning-a-view-versus-a-copy\n",
      "  \"\"\"Entry point for launching an IPython kernel.\n"
     ]
    }
   ],
   "source": [
    "new_data['tags'] = new_data['tags'].apply(lambda x:x.lower())"
   ]
  },
  {
   "cell_type": "code",
   "execution_count": 32,
   "id": "7ce98119",
   "metadata": {
    "execution": {
     "iopub.execute_input": "2023-04-09T17:49:03.077424Z",
     "iopub.status.busy": "2023-04-09T17:49:03.076978Z",
     "iopub.status.idle": "2023-04-09T17:49:03.088355Z",
     "shell.execute_reply": "2023-04-09T17:49:03.087438Z"
    },
    "papermill": {
     "duration": 0.026992,
     "end_time": "2023-04-09T17:49:03.090497",
     "exception": false,
     "start_time": "2023-04-09T17:49:03.063505",
     "status": "completed"
    },
    "tags": []
   },
   "outputs": [
    {
     "data": {
      "text/html": [
       "<div>\n",
       "<style scoped>\n",
       "    .dataframe tbody tr th:only-of-type {\n",
       "        vertical-align: middle;\n",
       "    }\n",
       "\n",
       "    .dataframe tbody tr th {\n",
       "        vertical-align: top;\n",
       "    }\n",
       "\n",
       "    .dataframe thead th {\n",
       "        text-align: right;\n",
       "    }\n",
       "</style>\n",
       "<table border=\"1\" class=\"dataframe\">\n",
       "  <thead>\n",
       "    <tr style=\"text-align: right;\">\n",
       "      <th></th>\n",
       "      <th>movie_id</th>\n",
       "      <th>title</th>\n",
       "      <th>tags</th>\n",
       "    </tr>\n",
       "  </thead>\n",
       "  <tbody>\n",
       "    <tr>\n",
       "      <th>0</th>\n",
       "      <td>19995</td>\n",
       "      <td>Avatar</td>\n",
       "      <td>in the 22nd century, a parapleg marin is dispa...</td>\n",
       "    </tr>\n",
       "    <tr>\n",
       "      <th>1</th>\n",
       "      <td>285</td>\n",
       "      <td>Pirates of the Caribbean: At World's End</td>\n",
       "      <td>captain barbossa, long believ to be dead, ha c...</td>\n",
       "    </tr>\n",
       "    <tr>\n",
       "      <th>2</th>\n",
       "      <td>206647</td>\n",
       "      <td>Spectre</td>\n",
       "      <td>a cryptic messag from bond’ past send him on a...</td>\n",
       "    </tr>\n",
       "    <tr>\n",
       "      <th>3</th>\n",
       "      <td>49026</td>\n",
       "      <td>The Dark Knight Rises</td>\n",
       "      <td>follow the death of district attorney harvey d...</td>\n",
       "    </tr>\n",
       "    <tr>\n",
       "      <th>4</th>\n",
       "      <td>49529</td>\n",
       "      <td>John Carter</td>\n",
       "      <td>john carter is a war-weary, former militari ca...</td>\n",
       "    </tr>\n",
       "  </tbody>\n",
       "</table>\n",
       "</div>"
      ],
      "text/plain": [
       "   movie_id                                     title  \\\n",
       "0     19995                                    Avatar   \n",
       "1       285  Pirates of the Caribbean: At World's End   \n",
       "2    206647                                   Spectre   \n",
       "3     49026                     The Dark Knight Rises   \n",
       "4     49529                               John Carter   \n",
       "\n",
       "                                                tags  \n",
       "0  in the 22nd century, a parapleg marin is dispa...  \n",
       "1  captain barbossa, long believ to be dead, ha c...  \n",
       "2  a cryptic messag from bond’ past send him on a...  \n",
       "3  follow the death of district attorney harvey d...  \n",
       "4  john carter is a war-weary, former militari ca...  "
      ]
     },
     "execution_count": 32,
     "metadata": {},
     "output_type": "execute_result"
    }
   ],
   "source": [
    "new_data.head()"
   ]
  },
  {
   "cell_type": "code",
   "execution_count": 33,
   "id": "04c5d871",
   "metadata": {
    "execution": {
     "iopub.execute_input": "2023-04-09T17:49:03.116899Z",
     "iopub.status.busy": "2023-04-09T17:49:03.116428Z",
     "iopub.status.idle": "2023-04-09T17:49:03.122192Z",
     "shell.execute_reply": "2023-04-09T17:49:03.120996Z"
    },
    "papermill": {
     "duration": 0.021997,
     "end_time": "2023-04-09T17:49:03.124524",
     "exception": false,
     "start_time": "2023-04-09T17:49:03.102527",
     "status": "completed"
    },
    "tags": []
   },
   "outputs": [],
   "source": [
    "#for vectorization\n",
    "from sklearn.feature_extraction.text import CountVectorizer\n",
    "cv = CountVectorizer(max_features=5000, stop_words='english')"
   ]
  },
  {
   "cell_type": "code",
   "execution_count": 34,
   "id": "853cdf83",
   "metadata": {
    "execution": {
     "iopub.execute_input": "2023-04-09T17:49:03.150058Z",
     "iopub.status.busy": "2023-04-09T17:49:03.149608Z",
     "iopub.status.idle": "2023-04-09T17:49:03.657673Z",
     "shell.execute_reply": "2023-04-09T17:49:03.656441Z"
    },
    "papermill": {
     "duration": 0.5242,
     "end_time": "2023-04-09T17:49:03.660665",
     "exception": false,
     "start_time": "2023-04-09T17:49:03.136465",
     "status": "completed"
    },
    "tags": []
   },
   "outputs": [],
   "source": [
    "vectors = cv.fit_transform(new_data['tags']).toarray()"
   ]
  },
  {
   "cell_type": "code",
   "execution_count": 35,
   "id": "47e83b74",
   "metadata": {
    "execution": {
     "iopub.execute_input": "2023-04-09T17:49:03.687263Z",
     "iopub.status.busy": "2023-04-09T17:49:03.686145Z",
     "iopub.status.idle": "2023-04-09T17:49:03.693844Z",
     "shell.execute_reply": "2023-04-09T17:49:03.692833Z"
    },
    "papermill": {
     "duration": 0.023397,
     "end_time": "2023-04-09T17:49:03.696169",
     "exception": false,
     "start_time": "2023-04-09T17:49:03.672772",
     "status": "completed"
    },
    "tags": []
   },
   "outputs": [
    {
     "data": {
      "text/plain": [
       "array([0, 0, 0, ..., 0, 0, 0])"
      ]
     },
     "execution_count": 35,
     "metadata": {},
     "output_type": "execute_result"
    }
   ],
   "source": [
    "vectors[0]"
   ]
  },
  {
   "cell_type": "code",
   "execution_count": 36,
   "id": "a7daf7fd",
   "metadata": {
    "execution": {
     "iopub.execute_input": "2023-04-09T17:49:03.722639Z",
     "iopub.status.busy": "2023-04-09T17:49:03.721976Z",
     "iopub.status.idle": "2023-04-09T17:49:03.733123Z",
     "shell.execute_reply": "2023-04-09T17:49:03.731941Z"
    },
    "papermill": {
     "duration": 0.026919,
     "end_time": "2023-04-09T17:49:03.735363",
     "exception": false,
     "start_time": "2023-04-09T17:49:03.708444",
     "status": "completed"
    },
    "tags": []
   },
   "outputs": [
    {
     "data": {
      "text/plain": [
       "array(['000', '007', '10', ..., 'zone', 'zoo', 'zooeydeschanel'],\n",
       "      dtype=object)"
      ]
     },
     "execution_count": 36,
     "metadata": {},
     "output_type": "execute_result"
    }
   ],
   "source": [
    "cv.get_feature_names_out()"
   ]
  },
  {
   "cell_type": "code",
   "execution_count": 37,
   "id": "48948450",
   "metadata": {
    "execution": {
     "iopub.execute_input": "2023-04-09T17:49:03.760929Z",
     "iopub.status.busy": "2023-04-09T17:49:03.760479Z",
     "iopub.status.idle": "2023-04-09T17:49:03.765628Z",
     "shell.execute_reply": "2023-04-09T17:49:03.764567Z"
    },
    "papermill": {
     "duration": 0.020722,
     "end_time": "2023-04-09T17:49:03.767921",
     "exception": false,
     "start_time": "2023-04-09T17:49:03.747199",
     "status": "completed"
    },
    "tags": []
   },
   "outputs": [],
   "source": [
    "from sklearn.metrics.pairwise import cosine_similarity"
   ]
  },
  {
   "cell_type": "code",
   "execution_count": 38,
   "id": "10bf1890",
   "metadata": {
    "execution": {
     "iopub.execute_input": "2023-04-09T17:49:03.794459Z",
     "iopub.status.busy": "2023-04-09T17:49:03.793652Z",
     "iopub.status.idle": "2023-04-09T17:49:06.043563Z",
     "shell.execute_reply": "2023-04-09T17:49:06.041776Z"
    },
    "papermill": {
     "duration": 2.268625,
     "end_time": "2023-04-09T17:49:06.048877",
     "exception": false,
     "start_time": "2023-04-09T17:49:03.780252",
     "status": "completed"
    },
    "tags": []
   },
   "outputs": [],
   "source": [
    "similarity = cosine_similarity(vectors)"
   ]
  },
  {
   "cell_type": "code",
   "execution_count": 39,
   "id": "01207459",
   "metadata": {
    "execution": {
     "iopub.execute_input": "2023-04-09T17:49:06.077654Z",
     "iopub.status.busy": "2023-04-09T17:49:06.076439Z",
     "iopub.status.idle": "2023-04-09T17:49:06.084175Z",
     "shell.execute_reply": "2023-04-09T17:49:06.083101Z"
    },
    "papermill": {
     "duration": 0.023253,
     "end_time": "2023-04-09T17:49:06.086291",
     "exception": false,
     "start_time": "2023-04-09T17:49:06.063038",
     "status": "completed"
    },
    "tags": []
   },
   "outputs": [
    {
     "data": {
      "text/plain": [
       "array([0.08346223, 1.        , 0.06063391, ..., 0.02378257, 0.        ,\n",
       "       0.02615329])"
      ]
     },
     "execution_count": 39,
     "metadata": {},
     "output_type": "execute_result"
    }
   ],
   "source": [
    "similarity[1]"
   ]
  },
  {
   "cell_type": "code",
   "execution_count": 40,
   "id": "814d289a",
   "metadata": {
    "execution": {
     "iopub.execute_input": "2023-04-09T17:49:06.112420Z",
     "iopub.status.busy": "2023-04-09T17:49:06.112012Z",
     "iopub.status.idle": "2023-04-09T17:49:06.119004Z",
     "shell.execute_reply": "2023-04-09T17:49:06.117608Z"
    },
    "papermill": {
     "duration": 0.023156,
     "end_time": "2023-04-09T17:49:06.121439",
     "exception": false,
     "start_time": "2023-04-09T17:49:06.098283",
     "status": "completed"
    },
    "tags": []
   },
   "outputs": [],
   "source": [
    "def recommend(movie):\n",
    "    movie_index = new_data[new_data['title'] == movie].index[0]\n",
    "    distances= similarity[movie_index]\n",
    "    \n",
    "    movie_list = sorted(list(enumerate(distances)), reverse=True, key= lambda x: x[1])[1:6]\n",
    "    \n",
    "    for i in movie_list:\n",
    "        print(new_data.iloc[i[0]].title)"
   ]
  },
  {
   "cell_type": "code",
   "execution_count": 41,
   "id": "a9f71a15",
   "metadata": {
    "execution": {
     "iopub.execute_input": "2023-04-09T17:49:06.147581Z",
     "iopub.status.busy": "2023-04-09T17:49:06.147183Z",
     "iopub.status.idle": "2023-04-09T17:49:06.158545Z",
     "shell.execute_reply": "2023-04-09T17:49:06.157177Z"
    },
    "papermill": {
     "duration": 0.027597,
     "end_time": "2023-04-09T17:49:06.161108",
     "exception": false,
     "start_time": "2023-04-09T17:49:06.133511",
     "status": "completed"
    },
    "tags": []
   },
   "outputs": [
    {
     "name": "stdout",
     "output_type": "stream",
     "text": [
      "Alien\n",
      "Alien³\n",
      "Meet Dave\n",
      "Star Trek: Insurrection\n",
      "Escape from Planet Earth\n"
     ]
    }
   ],
   "source": [
    "recommend(\"Aliens\")"
   ]
  },
  {
   "cell_type": "code",
   "execution_count": null,
   "id": "7c94ce4e",
   "metadata": {
    "papermill": {
     "duration": 0.011855,
     "end_time": "2023-04-09T17:49:06.185147",
     "exception": false,
     "start_time": "2023-04-09T17:49:06.173292",
     "status": "completed"
    },
    "tags": []
   },
   "outputs": [],
   "source": []
  }
 ],
 "metadata": {
  "kernelspec": {
   "display_name": "Python 3",
   "language": "python",
   "name": "python3"
  },
  "language_info": {
   "codemirror_mode": {
    "name": "ipython",
    "version": 3
   },
   "file_extension": ".py",
   "mimetype": "text/x-python",
   "name": "python",
   "nbconvert_exporter": "python",
   "pygments_lexer": "ipython3",
   "version": "3.7.12"
  },
  "papermill": {
   "default_parameters": {},
   "duration": 33.549119,
   "end_time": "2023-04-09T17:49:07.120120",
   "environment_variables": {},
   "exception": null,
   "input_path": "__notebook__.ipynb",
   "output_path": "__notebook__.ipynb",
   "parameters": {},
   "start_time": "2023-04-09T17:48:33.571001",
   "version": "2.4.0"
  }
 },
 "nbformat": 4,
 "nbformat_minor": 5
}
